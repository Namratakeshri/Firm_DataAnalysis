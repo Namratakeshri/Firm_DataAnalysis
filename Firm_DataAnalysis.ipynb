{
 "cells": [
  {
   "cell_type": "code",
   "execution_count": 50,
   "id": "63ee86c4",
   "metadata": {},
   "outputs": [],
   "source": [
    "import numpy as np                                 # For Linear Algebra\n",
    "import pandas as pd                                # For Data Preprocessing\n",
    "import seaborn as sns                              # for creating plots\n",
    "import matplotlib.pyplot as plt                    # For Visualisation\n",
    "import sklearn\n",
    "from sklearn.preprocessing import StandardScaler  # For standardising Numerical Variable \n",
    "from sklearn.preprocessing import OrdinalEncoder  # For Standardising Categorical Variable.\n",
    "from sklearn.model_selection import train_test_split #For splitting the data into train and test size\n",
    "from sklearn.linear_model import LogisticRegression  # For constructing Logistic Regression model\n",
    "from sklearn import metrics                          #For metrics calculation\n",
    "from sklearn.metrics import confusion_matrix         #For calculating confusion matrix\n",
    "from sklearn.metrics import classification_report    # For Classification report\n",
    "from sklearn.ensemble import RandomForestClassifier"
   ]
  },
  {
   "cell_type": "code",
   "execution_count": 2,
   "id": "2ad9a67b",
   "metadata": {},
   "outputs": [],
   "source": [
    "df=pd.read_excel(\"sample_data.xlsx\")"
   ]
  },
  {
   "cell_type": "code",
   "execution_count": 3,
   "id": "fa713907",
   "metadata": {},
   "outputs": [
    {
     "data": {
      "text/html": [
       "<div>\n",
       "<style scoped>\n",
       "    .dataframe tbody tr th:only-of-type {\n",
       "        vertical-align: middle;\n",
       "    }\n",
       "\n",
       "    .dataframe tbody tr th {\n",
       "        vertical-align: top;\n",
       "    }\n",
       "\n",
       "    .dataframe thead th {\n",
       "        text-align: right;\n",
       "    }\n",
       "</style>\n",
       "<table border=\"1\" class=\"dataframe\">\n",
       "  <thead>\n",
       "    <tr style=\"text-align: right;\">\n",
       "      <th></th>\n",
       "      <th>Firm ID</th>\n",
       "      <th>RISK</th>\n",
       "      <th>Ret/Inst</th>\n",
       "      <th>ClientBase</th>\n",
       "      <th>BrokerType</th>\n",
       "      <th>T1</th>\n",
       "      <th>T2</th>\n",
       "      <th>T3</th>\n",
       "      <th>T4</th>\n",
       "      <th>T5</th>\n",
       "      <th>Violations</th>\n",
       "      <th>IndustryAwards</th>\n",
       "      <th>District</th>\n",
       "      <th>Unnamed: 13</th>\n",
       "      <th>Unnamed: 14</th>\n",
       "      <th>Unnamed: 15</th>\n",
       "      <th>Unnamed: 16</th>\n",
       "      <th>Unnamed: 17</th>\n",
       "    </tr>\n",
       "  </thead>\n",
       "  <tbody>\n",
       "    <tr>\n",
       "      <th>0</th>\n",
       "      <td>101</td>\n",
       "      <td>3</td>\n",
       "      <td>Ret</td>\n",
       "      <td>1</td>\n",
       "      <td>small</td>\n",
       "      <td>68</td>\n",
       "      <td>70</td>\n",
       "      <td>82</td>\n",
       "      <td>58</td>\n",
       "      <td>52</td>\n",
       "      <td>0</td>\n",
       "      <td>0</td>\n",
       "      <td>1</td>\n",
       "      <td>NaN</td>\n",
       "      <td>NaN</td>\n",
       "      <td>NaN</td>\n",
       "      <td>NaN</td>\n",
       "      <td>NaN</td>\n",
       "    </tr>\n",
       "    <tr>\n",
       "      <th>1</th>\n",
       "      <td>102</td>\n",
       "      <td>1</td>\n",
       "      <td>Inst</td>\n",
       "      <td>2</td>\n",
       "      <td>small</td>\n",
       "      <td>68</td>\n",
       "      <td>66</td>\n",
       "      <td>82</td>\n",
       "      <td>72</td>\n",
       "      <td>72</td>\n",
       "      <td>0</td>\n",
       "      <td>0</td>\n",
       "      <td>1</td>\n",
       "      <td>NaN</td>\n",
       "      <td>NaN</td>\n",
       "      <td>NaN</td>\n",
       "      <td>NaN</td>\n",
       "      <td>NaN</td>\n",
       "    </tr>\n",
       "    <tr>\n",
       "      <th>2</th>\n",
       "      <td>103</td>\n",
       "      <td>3</td>\n",
       "      <td>Inst</td>\n",
       "      <td>3</td>\n",
       "      <td>small</td>\n",
       "      <td>78</td>\n",
       "      <td>78</td>\n",
       "      <td>88</td>\n",
       "      <td>52</td>\n",
       "      <td>84</td>\n",
       "      <td>0</td>\n",
       "      <td>0</td>\n",
       "      <td>1</td>\n",
       "      <td>NaN</td>\n",
       "      <td>NaN</td>\n",
       "      <td>NaN</td>\n",
       "      <td>NaN</td>\n",
       "      <td>NaN</td>\n",
       "    </tr>\n",
       "    <tr>\n",
       "      <th>3</th>\n",
       "      <td>104</td>\n",
       "      <td>3</td>\n",
       "      <td>Inst</td>\n",
       "      <td>1</td>\n",
       "      <td>small</td>\n",
       "      <td>74</td>\n",
       "      <td>74</td>\n",
       "      <td>84</td>\n",
       "      <td>66</td>\n",
       "      <td>64</td>\n",
       "      <td>0</td>\n",
       "      <td>0</td>\n",
       "      <td>1</td>\n",
       "      <td>NaN</td>\n",
       "      <td>NaN</td>\n",
       "      <td>NaN</td>\n",
       "      <td>NaN</td>\n",
       "      <td>NaN</td>\n",
       "    </tr>\n",
       "    <tr>\n",
       "      <th>4</th>\n",
       "      <td>105</td>\n",
       "      <td>3</td>\n",
       "      <td>Inst</td>\n",
       "      <td>2</td>\n",
       "      <td>small</td>\n",
       "      <td>78</td>\n",
       "      <td>62</td>\n",
       "      <td>80</td>\n",
       "      <td>78</td>\n",
       "      <td>102</td>\n",
       "      <td>0</td>\n",
       "      <td>0</td>\n",
       "      <td>1</td>\n",
       "      <td>NaN</td>\n",
       "      <td>NaN</td>\n",
       "      <td>NaN</td>\n",
       "      <td>NaN</td>\n",
       "      <td>NaN</td>\n",
       "    </tr>\n",
       "  </tbody>\n",
       "</table>\n",
       "</div>"
      ],
      "text/plain": [
       "   Firm ID  RISK Ret/Inst  ClientBase BrokerType  T1  T2  T3  T4   T5  \\\n",
       "0      101     3      Ret           1      small  68  70  82  58   52   \n",
       "1      102     1     Inst           2      small  68  66  82  72   72   \n",
       "2      103     3     Inst           3      small  78  78  88  52   84   \n",
       "3      104     3     Inst           1      small  74  74  84  66   64   \n",
       "4      105     3     Inst           2      small  78  62  80  78  102   \n",
       "\n",
       "   Violations  IndustryAwards  District  Unnamed: 13  Unnamed: 14  \\\n",
       "0           0               0         1          NaN          NaN   \n",
       "1           0               0         1          NaN          NaN   \n",
       "2           0               0         1          NaN          NaN   \n",
       "3           0               0         1          NaN          NaN   \n",
       "4           0               0         1          NaN          NaN   \n",
       "\n",
       "   Unnamed: 15  Unnamed: 16  Unnamed: 17  \n",
       "0          NaN          NaN          NaN  \n",
       "1          NaN          NaN          NaN  \n",
       "2          NaN          NaN          NaN  \n",
       "3          NaN          NaN          NaN  \n",
       "4          NaN          NaN          NaN  "
      ]
     },
     "execution_count": 3,
     "metadata": {},
     "output_type": "execute_result"
    }
   ],
   "source": [
    "df.head()"
   ]
  },
  {
   "cell_type": "code",
   "execution_count": 4,
   "id": "83f3b8f8",
   "metadata": {},
   "outputs": [
    {
     "data": {
      "text/plain": [
       "(200, 18)"
      ]
     },
     "execution_count": 4,
     "metadata": {},
     "output_type": "execute_result"
    }
   ],
   "source": [
    "df.shape"
   ]
  },
  {
   "cell_type": "code",
   "execution_count": 5,
   "id": "3342f8bc",
   "metadata": {},
   "outputs": [],
   "source": [
    "df.drop([\"Unnamed: 13\"],axis=1,inplace=True)\n",
    "df.drop([\"Unnamed: 14\"],axis=1,inplace=True)\n",
    "df.drop([\"Unnamed: 15\"],axis=1,inplace=True)\n",
    "df.drop([\"Unnamed: 16\"],axis=1,inplace=True)\n",
    "df.drop([\"Unnamed: 17\"],axis=1,inplace=True)\n"
   ]
  },
  {
   "cell_type": "code",
   "execution_count": 6,
   "id": "aaf2a90a",
   "metadata": {},
   "outputs": [
    {
     "data": {
      "text/html": [
       "<div>\n",
       "<style scoped>\n",
       "    .dataframe tbody tr th:only-of-type {\n",
       "        vertical-align: middle;\n",
       "    }\n",
       "\n",
       "    .dataframe tbody tr th {\n",
       "        vertical-align: top;\n",
       "    }\n",
       "\n",
       "    .dataframe thead th {\n",
       "        text-align: right;\n",
       "    }\n",
       "</style>\n",
       "<table border=\"1\" class=\"dataframe\">\n",
       "  <thead>\n",
       "    <tr style=\"text-align: right;\">\n",
       "      <th></th>\n",
       "      <th>Firm ID</th>\n",
       "      <th>RISK</th>\n",
       "      <th>Ret/Inst</th>\n",
       "      <th>ClientBase</th>\n",
       "      <th>BrokerType</th>\n",
       "      <th>T1</th>\n",
       "      <th>T2</th>\n",
       "      <th>T3</th>\n",
       "      <th>T4</th>\n",
       "      <th>T5</th>\n",
       "      <th>Violations</th>\n",
       "      <th>IndustryAwards</th>\n",
       "      <th>District</th>\n",
       "    </tr>\n",
       "  </thead>\n",
       "  <tbody>\n",
       "    <tr>\n",
       "      <th>0</th>\n",
       "      <td>101</td>\n",
       "      <td>3</td>\n",
       "      <td>Ret</td>\n",
       "      <td>1</td>\n",
       "      <td>small</td>\n",
       "      <td>68</td>\n",
       "      <td>70</td>\n",
       "      <td>82</td>\n",
       "      <td>58</td>\n",
       "      <td>52</td>\n",
       "      <td>0</td>\n",
       "      <td>0</td>\n",
       "      <td>1</td>\n",
       "    </tr>\n",
       "    <tr>\n",
       "      <th>1</th>\n",
       "      <td>102</td>\n",
       "      <td>1</td>\n",
       "      <td>Inst</td>\n",
       "      <td>2</td>\n",
       "      <td>small</td>\n",
       "      <td>68</td>\n",
       "      <td>66</td>\n",
       "      <td>82</td>\n",
       "      <td>72</td>\n",
       "      <td>72</td>\n",
       "      <td>0</td>\n",
       "      <td>0</td>\n",
       "      <td>1</td>\n",
       "    </tr>\n",
       "    <tr>\n",
       "      <th>2</th>\n",
       "      <td>103</td>\n",
       "      <td>3</td>\n",
       "      <td>Inst</td>\n",
       "      <td>3</td>\n",
       "      <td>small</td>\n",
       "      <td>78</td>\n",
       "      <td>78</td>\n",
       "      <td>88</td>\n",
       "      <td>52</td>\n",
       "      <td>84</td>\n",
       "      <td>0</td>\n",
       "      <td>0</td>\n",
       "      <td>1</td>\n",
       "    </tr>\n",
       "    <tr>\n",
       "      <th>3</th>\n",
       "      <td>104</td>\n",
       "      <td>3</td>\n",
       "      <td>Inst</td>\n",
       "      <td>1</td>\n",
       "      <td>small</td>\n",
       "      <td>74</td>\n",
       "      <td>74</td>\n",
       "      <td>84</td>\n",
       "      <td>66</td>\n",
       "      <td>64</td>\n",
       "      <td>0</td>\n",
       "      <td>0</td>\n",
       "      <td>1</td>\n",
       "    </tr>\n",
       "    <tr>\n",
       "      <th>4</th>\n",
       "      <td>105</td>\n",
       "      <td>3</td>\n",
       "      <td>Inst</td>\n",
       "      <td>2</td>\n",
       "      <td>small</td>\n",
       "      <td>78</td>\n",
       "      <td>62</td>\n",
       "      <td>80</td>\n",
       "      <td>78</td>\n",
       "      <td>102</td>\n",
       "      <td>0</td>\n",
       "      <td>0</td>\n",
       "      <td>1</td>\n",
       "    </tr>\n",
       "    <tr>\n",
       "      <th>...</th>\n",
       "      <td>...</td>\n",
       "      <td>...</td>\n",
       "      <td>...</td>\n",
       "      <td>...</td>\n",
       "      <td>...</td>\n",
       "      <td>...</td>\n",
       "      <td>...</td>\n",
       "      <td>...</td>\n",
       "      <td>...</td>\n",
       "      <td>...</td>\n",
       "      <td>...</td>\n",
       "      <td>...</td>\n",
       "      <td>...</td>\n",
       "    </tr>\n",
       "    <tr>\n",
       "      <th>195</th>\n",
       "      <td>296</td>\n",
       "      <td>2</td>\n",
       "      <td>Ret</td>\n",
       "      <td>3</td>\n",
       "      <td>small</td>\n",
       "      <td>126</td>\n",
       "      <td>130</td>\n",
       "      <td>142</td>\n",
       "      <td>138</td>\n",
       "      <td>142</td>\n",
       "      <td>1</td>\n",
       "      <td>5</td>\n",
       "      <td>20</td>\n",
       "    </tr>\n",
       "    <tr>\n",
       "      <th>196</th>\n",
       "      <td>297</td>\n",
       "      <td>3</td>\n",
       "      <td>Inst</td>\n",
       "      <td>2</td>\n",
       "      <td>small</td>\n",
       "      <td>126</td>\n",
       "      <td>126</td>\n",
       "      <td>150</td>\n",
       "      <td>144</td>\n",
       "      <td>132</td>\n",
       "      <td>1</td>\n",
       "      <td>4</td>\n",
       "      <td>20</td>\n",
       "    </tr>\n",
       "    <tr>\n",
       "      <th>197</th>\n",
       "      <td>298</td>\n",
       "      <td>2</td>\n",
       "      <td>Inst</td>\n",
       "      <td>2</td>\n",
       "      <td>small</td>\n",
       "      <td>146</td>\n",
       "      <td>134</td>\n",
       "      <td>142</td>\n",
       "      <td>126</td>\n",
       "      <td>132</td>\n",
       "      <td>1</td>\n",
       "      <td>7</td>\n",
       "      <td>20</td>\n",
       "    </tr>\n",
       "    <tr>\n",
       "      <th>198</th>\n",
       "      <td>299</td>\n",
       "      <td>2</td>\n",
       "      <td>Ret</td>\n",
       "      <td>2</td>\n",
       "      <td>small</td>\n",
       "      <td>142</td>\n",
       "      <td>130</td>\n",
       "      <td>144</td>\n",
       "      <td>132</td>\n",
       "      <td>112</td>\n",
       "      <td>1</td>\n",
       "      <td>5</td>\n",
       "      <td>20</td>\n",
       "    </tr>\n",
       "    <tr>\n",
       "      <th>199</th>\n",
       "      <td>300</td>\n",
       "      <td>2</td>\n",
       "      <td>Inst</td>\n",
       "      <td>2</td>\n",
       "      <td>small</td>\n",
       "      <td>146</td>\n",
       "      <td>124</td>\n",
       "      <td>146</td>\n",
       "      <td>138</td>\n",
       "      <td>132</td>\n",
       "      <td>1</td>\n",
       "      <td>3</td>\n",
       "      <td>20</td>\n",
       "    </tr>\n",
       "  </tbody>\n",
       "</table>\n",
       "<p>200 rows × 13 columns</p>\n",
       "</div>"
      ],
      "text/plain": [
       "     Firm ID  RISK Ret/Inst  ClientBase BrokerType   T1   T2   T3   T4   T5  \\\n",
       "0        101     3      Ret           1      small   68   70   82   58   52   \n",
       "1        102     1     Inst           2      small   68   66   82   72   72   \n",
       "2        103     3     Inst           3      small   78   78   88   52   84   \n",
       "3        104     3     Inst           1      small   74   74   84   66   64   \n",
       "4        105     3     Inst           2      small   78   62   80   78  102   \n",
       "..       ...   ...      ...         ...        ...  ...  ...  ...  ...  ...   \n",
       "195      296     2      Ret           3      small  126  130  142  138  142   \n",
       "196      297     3     Inst           2      small  126  126  150  144  132   \n",
       "197      298     2     Inst           2      small  146  134  142  126  132   \n",
       "198      299     2      Ret           2      small  142  130  144  132  112   \n",
       "199      300     2     Inst           2      small  146  124  146  138  132   \n",
       "\n",
       "     Violations  IndustryAwards  District  \n",
       "0             0               0         1  \n",
       "1             0               0         1  \n",
       "2             0               0         1  \n",
       "3             0               0         1  \n",
       "4             0               0         1  \n",
       "..          ...             ...       ...  \n",
       "195           1               5        20  \n",
       "196           1               4        20  \n",
       "197           1               7        20  \n",
       "198           1               5        20  \n",
       "199           1               3        20  \n",
       "\n",
       "[200 rows x 13 columns]"
      ]
     },
     "execution_count": 6,
     "metadata": {},
     "output_type": "execute_result"
    }
   ],
   "source": [
    "df"
   ]
  },
  {
   "cell_type": "code",
   "execution_count": 7,
   "id": "6f0f23b4",
   "metadata": {},
   "outputs": [
    {
     "name": "stdout",
     "output_type": "stream",
     "text": [
      "<class 'pandas.core.frame.DataFrame'>\n",
      "RangeIndex: 200 entries, 0 to 199\n",
      "Data columns (total 13 columns):\n",
      " #   Column          Non-Null Count  Dtype \n",
      "---  ------          --------------  ----- \n",
      " 0   Firm ID         200 non-null    int64 \n",
      " 1   RISK            200 non-null    int64 \n",
      " 2   Ret/Inst        200 non-null    object\n",
      " 3   ClientBase      200 non-null    int64 \n",
      " 4   BrokerType      200 non-null    object\n",
      " 5   T1              200 non-null    int64 \n",
      " 6   T2              200 non-null    int64 \n",
      " 7   T3              200 non-null    int64 \n",
      " 8   T4              200 non-null    int64 \n",
      " 9   T5              200 non-null    int64 \n",
      " 10  Violations      200 non-null    int64 \n",
      " 11  IndustryAwards  200 non-null    int64 \n",
      " 12  District        200 non-null    int64 \n",
      "dtypes: int64(11), object(2)\n",
      "memory usage: 20.4+ KB\n"
     ]
    }
   ],
   "source": [
    "df.info()"
   ]
  },
  {
   "cell_type": "code",
   "execution_count": 8,
   "id": "db1d92f5",
   "metadata": {},
   "outputs": [
    {
     "data": {
      "text/plain": [
       "Firm ID           0\n",
       "RISK              0\n",
       "Ret/Inst          0\n",
       "ClientBase        0\n",
       "BrokerType        0\n",
       "T1                0\n",
       "T2                0\n",
       "T3                0\n",
       "T4                0\n",
       "T5                0\n",
       "Violations        0\n",
       "IndustryAwards    0\n",
       "District          0\n",
       "dtype: int64"
      ]
     },
     "execution_count": 8,
     "metadata": {},
     "output_type": "execute_result"
    }
   ],
   "source": [
    "df.isnull().sum()"
   ]
  },
  {
   "cell_type": "code",
   "execution_count": 27,
   "id": "eed82a4c",
   "metadata": {},
   "outputs": [
    {
     "name": "stdout",
     "output_type": "stream",
     "text": [
      "Entrées dupliquées: 0\n"
     ]
    }
   ],
   "source": [
    "#Deleting duplicate values from the data table.\n",
    "\n",
    "print('Entrées dupliquées: {}'.format(df.duplicated().sum()))\n",
    "df.drop_duplicates(inplace = True)"
   ]
  },
  {
   "cell_type": "code",
   "execution_count": 9,
   "id": "3c2370d5",
   "metadata": {},
   "outputs": [
    {
     "data": {
      "text/html": [
       "<div>\n",
       "<style scoped>\n",
       "    .dataframe tbody tr th:only-of-type {\n",
       "        vertical-align: middle;\n",
       "    }\n",
       "\n",
       "    .dataframe tbody tr th {\n",
       "        vertical-align: top;\n",
       "    }\n",
       "\n",
       "    .dataframe thead th {\n",
       "        text-align: right;\n",
       "    }\n",
       "</style>\n",
       "<table border=\"1\" class=\"dataframe\">\n",
       "  <thead>\n",
       "    <tr style=\"text-align: right;\">\n",
       "      <th></th>\n",
       "      <th>Firm ID</th>\n",
       "      <th>RISK</th>\n",
       "      <th>ClientBase</th>\n",
       "      <th>T1</th>\n",
       "      <th>T2</th>\n",
       "      <th>T3</th>\n",
       "      <th>T4</th>\n",
       "      <th>T5</th>\n",
       "      <th>Violations</th>\n",
       "      <th>IndustryAwards</th>\n",
       "      <th>District</th>\n",
       "    </tr>\n",
       "  </thead>\n",
       "  <tbody>\n",
       "    <tr>\n",
       "      <th>count</th>\n",
       "      <td>200.000000</td>\n",
       "      <td>200.000000</td>\n",
       "      <td>200.000000</td>\n",
       "      <td>200.000000</td>\n",
       "      <td>200.000000</td>\n",
       "      <td>200.000000</td>\n",
       "      <td>200.000000</td>\n",
       "      <td>200.000000</td>\n",
       "      <td>200.000000</td>\n",
       "      <td>200.000000</td>\n",
       "      <td>200.000000</td>\n",
       "    </tr>\n",
       "    <tr>\n",
       "      <th>mean</th>\n",
       "      <td>200.500000</td>\n",
       "      <td>2.025000</td>\n",
       "      <td>2.055000</td>\n",
       "      <td>104.460000</td>\n",
       "      <td>105.550000</td>\n",
       "      <td>105.290000</td>\n",
       "      <td>103.700000</td>\n",
       "      <td>104.810000</td>\n",
       "      <td>0.265000</td>\n",
       "      <td>1.670000</td>\n",
       "      <td>10.430000</td>\n",
       "    </tr>\n",
       "    <tr>\n",
       "      <th>std</th>\n",
       "      <td>57.879185</td>\n",
       "      <td>0.690477</td>\n",
       "      <td>0.724291</td>\n",
       "      <td>20.505874</td>\n",
       "      <td>18.957172</td>\n",
       "      <td>18.736896</td>\n",
       "      <td>19.801782</td>\n",
       "      <td>21.471587</td>\n",
       "      <td>0.442441</td>\n",
       "      <td>1.818691</td>\n",
       "      <td>5.801152</td>\n",
       "    </tr>\n",
       "    <tr>\n",
       "      <th>min</th>\n",
       "      <td>101.000000</td>\n",
       "      <td>1.000000</td>\n",
       "      <td>1.000000</td>\n",
       "      <td>56.000000</td>\n",
       "      <td>62.000000</td>\n",
       "      <td>66.000000</td>\n",
       "      <td>52.000000</td>\n",
       "      <td>52.000000</td>\n",
       "      <td>0.000000</td>\n",
       "      <td>0.000000</td>\n",
       "      <td>1.000000</td>\n",
       "    </tr>\n",
       "    <tr>\n",
       "      <th>25%</th>\n",
       "      <td>150.750000</td>\n",
       "      <td>2.000000</td>\n",
       "      <td>2.000000</td>\n",
       "      <td>88.000000</td>\n",
       "      <td>91.500000</td>\n",
       "      <td>90.000000</td>\n",
       "      <td>88.000000</td>\n",
       "      <td>92.000000</td>\n",
       "      <td>0.000000</td>\n",
       "      <td>0.000000</td>\n",
       "      <td>5.000000</td>\n",
       "    </tr>\n",
       "    <tr>\n",
       "      <th>50%</th>\n",
       "      <td>200.500000</td>\n",
       "      <td>2.000000</td>\n",
       "      <td>2.000000</td>\n",
       "      <td>100.000000</td>\n",
       "      <td>108.000000</td>\n",
       "      <td>104.000000</td>\n",
       "      <td>106.000000</td>\n",
       "      <td>104.000000</td>\n",
       "      <td>0.000000</td>\n",
       "      <td>1.000000</td>\n",
       "      <td>10.500000</td>\n",
       "    </tr>\n",
       "    <tr>\n",
       "      <th>75%</th>\n",
       "      <td>250.250000</td>\n",
       "      <td>2.250000</td>\n",
       "      <td>3.000000</td>\n",
       "      <td>120.000000</td>\n",
       "      <td>120.000000</td>\n",
       "      <td>118.000000</td>\n",
       "      <td>116.000000</td>\n",
       "      <td>122.000000</td>\n",
       "      <td>1.000000</td>\n",
       "      <td>2.000000</td>\n",
       "      <td>15.000000</td>\n",
       "    </tr>\n",
       "    <tr>\n",
       "      <th>max</th>\n",
       "      <td>300.000000</td>\n",
       "      <td>3.000000</td>\n",
       "      <td>3.000000</td>\n",
       "      <td>152.000000</td>\n",
       "      <td>134.000000</td>\n",
       "      <td>150.000000</td>\n",
       "      <td>148.000000</td>\n",
       "      <td>142.000000</td>\n",
       "      <td>1.000000</td>\n",
       "      <td>7.000000</td>\n",
       "      <td>20.000000</td>\n",
       "    </tr>\n",
       "  </tbody>\n",
       "</table>\n",
       "</div>"
      ],
      "text/plain": [
       "          Firm ID        RISK  ClientBase          T1          T2          T3  \\\n",
       "count  200.000000  200.000000  200.000000  200.000000  200.000000  200.000000   \n",
       "mean   200.500000    2.025000    2.055000  104.460000  105.550000  105.290000   \n",
       "std     57.879185    0.690477    0.724291   20.505874   18.957172   18.736896   \n",
       "min    101.000000    1.000000    1.000000   56.000000   62.000000   66.000000   \n",
       "25%    150.750000    2.000000    2.000000   88.000000   91.500000   90.000000   \n",
       "50%    200.500000    2.000000    2.000000  100.000000  108.000000  104.000000   \n",
       "75%    250.250000    2.250000    3.000000  120.000000  120.000000  118.000000   \n",
       "max    300.000000    3.000000    3.000000  152.000000  134.000000  150.000000   \n",
       "\n",
       "               T4          T5  Violations  IndustryAwards    District  \n",
       "count  200.000000  200.000000  200.000000      200.000000  200.000000  \n",
       "mean   103.700000  104.810000    0.265000        1.670000   10.430000  \n",
       "std     19.801782   21.471587    0.442441        1.818691    5.801152  \n",
       "min     52.000000   52.000000    0.000000        0.000000    1.000000  \n",
       "25%     88.000000   92.000000    0.000000        0.000000    5.000000  \n",
       "50%    106.000000  104.000000    0.000000        1.000000   10.500000  \n",
       "75%    116.000000  122.000000    1.000000        2.000000   15.000000  \n",
       "max    148.000000  142.000000    1.000000        7.000000   20.000000  "
      ]
     },
     "execution_count": 9,
     "metadata": {},
     "output_type": "execute_result"
    }
   ],
   "source": [
    "df.describe()"
   ]
  },
  {
   "cell_type": "markdown",
   "id": "33f87de5",
   "metadata": {},
   "source": [
    "\"T1-T5: Average tests scores of the registered reps in the firm (T1-T5)\".\n",
    "\n",
    "T1 has maximum 152 score,T2 has 134, T3 has 150, T4 has 148, T5 has 142. Highest score is of \"T1\".\n",
    "\n",
    "T1 has minimum 56 score,T2 has 62, T3 has 66, T4 has 52 , T5 has 52.Lowest score is of \"T4\" and \"T5\".\n"
   ]
  },
  {
   "cell_type": "code",
   "execution_count": 10,
   "id": "88efc697",
   "metadata": {},
   "outputs": [
    {
     "data": {
      "text/plain": [
       "Firm ID           200\n",
       "RISK                3\n",
       "Ret/Inst            2\n",
       "ClientBase          3\n",
       "BrokerType          2\n",
       "T1                 30\n",
       "T2                 29\n",
       "T3                 40\n",
       "T4                 34\n",
       "T5                 22\n",
       "Violations          2\n",
       "IndustryAwards      7\n",
       "District           20\n",
       "dtype: int64"
      ]
     },
     "execution_count": 10,
     "metadata": {},
     "output_type": "execute_result"
    }
   ],
   "source": [
    "df.nunique()"
   ]
  },
  {
   "cell_type": "code",
   "execution_count": 11,
   "id": "c7c1ae3e",
   "metadata": {},
   "outputs": [
    {
     "data": {
      "text/plain": [
       "<AxesSubplot:xlabel='Violations', ylabel='count'>"
      ]
     },
     "execution_count": 11,
     "metadata": {},
     "output_type": "execute_result"
    },
    {
     "data": {
      "image/png": "[encoded data removed]",
      "text/plain": [
       "<Figure size 432x288 with 1 Axes>"
      ]
     },
     "metadata": {
      "needs_background": "light"
     },
     "output_type": "display_data"
    }
   ],
   "source": [
    "sns.countplot(x=\"Violations\", data=df, hue=\"RISK\")"
   ]
  },
  {
   "cell_type": "markdown",
   "id": "3ce87bc7",
   "metadata": {},
   "source": [
    "\"RISK – 3 being the highest to each member firm.\"\n",
    "\n",
    "Interpretations:\n",
    "\n",
    "In 0-Violation firms:\n",
    "\n",
    "Firms which have Risk-2 are more in number, and firms with Risk-1 has lesser  number of \"0-violations\" than Risk-2 firms and Risk-1 firms.\n",
    "\n",
    "Whereas in Violation-1 we can see that:\n",
    "\n",
    "Firms having Risk-2 has comapratively less count than firms in violations-0.\n",
    "And Firms with Risk-1 and Risk-3 has least number in Violation-1."
   ]
  },
  {
   "cell_type": "code",
   "execution_count": 12,
   "id": "3bfa7aae",
   "metadata": {},
   "outputs": [
    {
     "data": {
      "text/plain": [
       "<AxesSubplot:xlabel='Violations', ylabel='count'>"
      ]
     },
     "execution_count": 12,
     "metadata": {},
     "output_type": "execute_result"
    },
    {
     "data": {
      "image/png": "[encoded data removed]",
      "text/plain": [
       "<Figure size 432x288 with 1 Axes>"
      ]
     },
     "metadata": {
      "needs_background": "light"
     },
     "output_type": "display_data"
    }
   ],
   "source": [
    "sns.countplot(x=\"Violations\", data=df, hue=\"Ret/Inst\")"
   ]
  },
  {
   "cell_type": "markdown",
   "id": "d7bf6c2a",
   "metadata": {},
   "source": [
    "Firm (Retail versus Institutional – Ret/Inst)\n",
    "\n",
    "Firms with \"0-violations\" has higher Retail business,\n",
    "\n",
    "whereas Firms with \"1-violations\" also has more Retail business, but comparatively lower than 0 violation firms."
   ]
  },
  {
   "cell_type": "code",
   "execution_count": 13,
   "id": "0e9e2130",
   "metadata": {},
   "outputs": [
    {
     "data": {
      "text/plain": [
       "<AxesSubplot:xlabel='Violations', ylabel='count'>"
      ]
     },
     "execution_count": 13,
     "metadata": {},
     "output_type": "execute_result"
    },
    {
     "data": {
      "image/png": "[encoded data removed]",
      "text/plain": [
       "<Figure size 432x288 with 1 Axes>"
      ]
     },
     "metadata": {
      "needs_background": "light"
     },
     "output_type": "display_data"
    }
   ],
   "source": [
    "sns.countplot(x=\"Violations\", data=df, hue=\"ClientBase\")"
   ]
  },
  {
   "cell_type": "markdown",
   "id": "70b443a8",
   "metadata": {},
   "source": [
    "Client Base (Each number represents a separate client group)\n",
    "\n",
    "Firms with \"0-violation\" has \"2-client\" groups which is  more in number than other client groups.\n",
    "\n",
    "Firms with \"1-violation\" has \"3-client\" groups which is higher in number than other two client groups, but clients are comparatively lower than \"0-violation\"."
   ]
  },
  {
   "cell_type": "code",
   "execution_count": 14,
   "id": "efa45633",
   "metadata": {},
   "outputs": [
    {
     "data": {
      "text/plain": [
       "<AxesSubplot:xlabel='Violations', ylabel='count'>"
      ]
     },
     "execution_count": 14,
     "metadata": {},
     "output_type": "execute_result"
    },
    {
     "data": {
      "image/png": "[encoded data removed]",
      "text/plain": [
       "<Figure size 432x288 with 1 Axes>"
      ]
     },
     "metadata": {
      "needs_background": "light"
     },
     "output_type": "display_data"
    }
   ],
   "source": [
    "sns.countplot(x=\"Violations\", data=df, hue=\"BrokerType\")"
   ]
  },
  {
   "cell_type": "markdown",
   "id": "f067ed40",
   "metadata": {},
   "source": [
    "Broker type (small/large):\n",
    "\n",
    "Firms with \"0-violation\" has  higher number of \"small Broker type\" and less number of \"Large Broker type\".\n",
    "Whereas \n",
    "\n",
    "Firms with \"1-violation\" has higher number of \"small Broker type\" and less number of \"Large Broker type\" but comparatively lower than \"0-violation\".\n",
    "\n"
   ]
  },
  {
   "cell_type": "code",
   "execution_count": 15,
   "id": "005ab2c3",
   "metadata": {},
   "outputs": [
    {
     "data": {
      "image/png": "[encoded data removed]",
      "text/plain": [
       "<Figure size 432x288 with 1 Axes>"
      ]
     },
     "metadata": {
      "needs_background": "light"
     },
     "output_type": "display_data"
    }
   ],
   "source": [
    "sns.boxplot(x=\"T1\", data=df);"
   ]
  },
  {
   "cell_type": "code",
   "execution_count": 16,
   "id": "28933ed7",
   "metadata": {},
   "outputs": [
    {
     "data": {
      "image/png": "[encoded data removed]",
      "text/plain": [
       "<Figure size 432x288 with 1 Axes>"
      ]
     },
     "metadata": {
      "needs_background": "light"
     },
     "output_type": "display_data"
    }
   ],
   "source": [
    "sns.boxplot(x=\"T2\", data=df);"
   ]
  },
  {
   "cell_type": "code",
   "execution_count": 17,
   "id": "58209e19",
   "metadata": {},
   "outputs": [
    {
     "data": {
      "image/png": "[encoded data removed]",
      "text/plain": [
       "<Figure size 432x288 with 1 Axes>"
      ]
     },
     "metadata": {
      "needs_background": "light"
     },
     "output_type": "display_data"
    }
   ],
   "source": [
    "sns.boxplot(x=\"T3\", data=df);"
   ]
  },
  {
   "cell_type": "code",
   "execution_count": 18,
   "id": "f7a3b293",
   "metadata": {},
   "outputs": [
    {
     "data": {
      "image/png": "[encoded data removed]",
      "text/plain": [
       "<Figure size 432x288 with 1 Axes>"
      ]
     },
     "metadata": {
      "needs_background": "light"
     },
     "output_type": "display_data"
    }
   ],
   "source": [
    "sns.boxplot(x=\"T4\", data=df);"
   ]
  },
  {
   "cell_type": "code",
   "execution_count": 19,
   "id": "fb62a070",
   "metadata": {},
   "outputs": [
    {
     "data": {
      "image/png": "[encoded data removed]",
      "text/plain": [
       "<Figure size 432x288 with 1 Axes>"
      ]
     },
     "metadata": {
      "needs_background": "light"
     },
     "output_type": "display_data"
    }
   ],
   "source": [
    "sns.boxplot(x=\"T5\", data=df);"
   ]
  },
  {
   "cell_type": "code",
   "execution_count": 20,
   "id": "693e54b0",
   "metadata": {},
   "outputs": [
    {
     "name": "stderr",
     "output_type": "stream",
     "text": [
      "C:\\Users\\NAMRATA KESHRI\\anaconda3\\lib\\site-packages\\seaborn\\_decorators.py:36: FutureWarning: Pass the following variables as keyword args: x, y. From version 0.12, the only valid positional argument will be `data`, and passing other arguments without an explicit keyword will result in an error or misinterpretation.\n",
      "  warnings.warn(\n"
     ]
    },
    {
     "data": {
      "image/png": "[encoded data removed]",
      "text/plain": [
       "<Figure size 416.875x360 with 1 Axes>"
      ]
     },
     "metadata": {
      "needs_background": "light"
     },
     "output_type": "display_data"
    }
   ],
   "source": [
    "sns.lmplot(\"T1\",\"T2\", data=df, hue=\"Violations\", fit_reg=False);"
   ]
  },
  {
   "cell_type": "markdown",
   "id": "99f3b021",
   "metadata": {},
   "source": [
    "Firms with higher T1 value ranging between (90-140) and T2 values ranging between (120-130) are more likely to have \n",
    "\"1-Violation\"."
   ]
  },
  {
   "cell_type": "code",
   "execution_count": 21,
   "id": "830beb1c",
   "metadata": {},
   "outputs": [
    {
     "name": "stderr",
     "output_type": "stream",
     "text": [
      "C:\\Users\\NAMRATA KESHRI\\anaconda3\\lib\\site-packages\\seaborn\\_decorators.py:36: FutureWarning: Pass the following variables as keyword args: x, y. From version 0.12, the only valid positional argument will be `data`, and passing other arguments without an explicit keyword will result in an error or misinterpretation.\n",
      "  warnings.warn(\n"
     ]
    },
    {
     "data": {
      "image/png": "[encoded data removed]",
      "text/plain": [
       "<Figure size 416.875x360 with 1 Axes>"
      ]
     },
     "metadata": {
      "needs_background": "light"
     },
     "output_type": "display_data"
    }
   ],
   "source": [
    "sns.lmplot(\"T2\",\"T3\", data=df, hue=\"Violations\", fit_reg=False);"
   ]
  },
  {
   "cell_type": "markdown",
   "id": "b24e32f0",
   "metadata": {},
   "source": [
    "Firms with T2 values (120-130)  and T3 with (80-130 ) are more likely to have \"1-Violation\"."
   ]
  },
  {
   "cell_type": "code",
   "execution_count": 22,
   "id": "51de4786",
   "metadata": {},
   "outputs": [
    {
     "name": "stderr",
     "output_type": "stream",
     "text": [
      "C:\\Users\\NAMRATA KESHRI\\anaconda3\\lib\\site-packages\\seaborn\\_decorators.py:36: FutureWarning: Pass the following variables as keyword args: x, y. From version 0.12, the only valid positional argument will be `data`, and passing other arguments without an explicit keyword will result in an error or misinterpretation.\n",
      "  warnings.warn(\n"
     ]
    },
    {
     "data": {
      "image/png": "[encoded data removed]",
      "text/plain": [
       "<Figure size 416.875x360 with 1 Axes>"
      ]
     },
     "metadata": {
      "needs_background": "light"
     },
     "output_type": "display_data"
    }
   ],
   "source": [
    "sns.lmplot(\"T3\",\"T4\", data=df, hue=\"Violations\", fit_reg=False);"
   ]
  },
  {
   "cell_type": "markdown",
   "id": "51a03fd3",
   "metadata": {},
   "source": [
    "T3 having values (100-140) and T4 having values (100-140) are more likely to have \"1-Violation\"."
   ]
  },
  {
   "cell_type": "code",
   "execution_count": 23,
   "id": "ba8d94bc",
   "metadata": {},
   "outputs": [
    {
     "name": "stderr",
     "output_type": "stream",
     "text": [
      "C:\\Users\\NAMRATA KESHRI\\anaconda3\\lib\\site-packages\\seaborn\\_decorators.py:36: FutureWarning: Pass the following variables as keyword args: x, y. From version 0.12, the only valid positional argument will be `data`, and passing other arguments without an explicit keyword will result in an error or misinterpretation.\n",
      "  warnings.warn(\n"
     ]
    },
    {
     "data": {
      "image/png": "[encoded data removed]",
      "text/plain": [
       "<Figure size 416.875x360 with 1 Axes>"
      ]
     },
     "metadata": {
      "needs_background": "light"
     },
     "output_type": "display_data"
    }
   ],
   "source": [
    "sns.lmplot(\"T4\",\"T5\", data=df, hue=\"Violations\", fit_reg=False);"
   ]
  },
  {
   "cell_type": "markdown",
   "id": "1a3a85db",
   "metadata": {},
   "source": [
    "T4 and T5 have \"0-Violation\" ranging from 60-130 ."
   ]
  },
  {
   "cell_type": "code",
   "execution_count": 24,
   "id": "dfb6ca5d",
   "metadata": {},
   "outputs": [],
   "source": [
    "# We will drop the Firm Id column ,\n",
    "#Since it has unique id for each upcoming Firm ,so will not be any reference of for training model.\n",
    "\n",
    "df.drop([\"Firm ID\"],inplace=True , axis=1)"
   ]
  },
  {
   "cell_type": "code",
   "execution_count": 25,
   "id": "d6920371",
   "metadata": {},
   "outputs": [
    {
     "data": {
      "text/plain": [
       "Violations        1.000000\n",
       "IndustryAwards    0.814911\n",
       "T2                0.675724\n",
       "District          0.630836\n",
       "T3                0.541691\n",
       "T1                0.489417\n",
       "T4                0.417503\n",
       "T5                0.387769\n",
       "ClientBase        0.189507\n",
       "RISK             -0.038244\n",
       "Name: Violations, dtype: float64"
      ]
     },
     "execution_count": 25,
     "metadata": {},
     "output_type": "execute_result"
    }
   ],
   "source": [
    "correlation = df.corr()\n",
    "correlation['Violations'].sort_values(ascending=False)"
   ]
  },
  {
   "cell_type": "code",
   "execution_count": 26,
   "id": "a7b6d1ce",
   "metadata": {},
   "outputs": [
    {
     "data": {
      "text/plain": [
       "<AxesSubplot:>"
      ]
     },
     "execution_count": 26,
     "metadata": {},
     "output_type": "execute_result"
    },
    {
     "data": {
      "image/png": "[encoded data removed]",
      "text/plain": [
       "<Figure size 576x360 with 1 Axes>"
      ]
     },
     "metadata": {
      "needs_background": "light"
     },
     "output_type": "display_data"
    }
   ],
   "source": [
    "#Correlation of other features with violations attribute\n",
    "\n",
    "plt.figure(figsize=(8,5))\n",
    "df.corr()['Violations'].sort_values(ascending=False).plot(kind='bar')"
   ]
  },
  {
   "cell_type": "markdown",
   "id": "49a28774",
   "metadata": {},
   "source": [
    "From the above graph we can see that :\n",
    "\n",
    "Violations        1.000000\n",
    "\n",
    "IndustryAwards    0.814911\n",
    "\n",
    "T2                0.675724\n",
    "\n",
    "Firm ID           0.634516\n",
    "\n",
    "District          0.630836\n",
    "\n",
    "T3                0.541691\n",
    "\n",
    "T1                0.489417\n",
    "\n",
    "T4                0.417503\n",
    "\n",
    "T5                0.387769\n",
    "\n",
    "ClientBase        0.189507\n",
    "\n",
    "RISK             -0.038244\n",
    "\n",
    "\"Industry Awards\" has highest correlation with \"Violation\" variable,so we should eliminate this feature,because it may result in  an abrupt prediction.\n",
    "\n",
    "Also \"T2\",\"T3\" and \"District\" has higher correlation which is more than \"0.5\",hence we should also eliminate these three variables.\n",
    "\n",
    "Here \"T1\",\"T4\", \"T5\",\"ClientBase\",\"Risk\" will be the important features to predict \"Violation\" variable."
   ]
  },
  {
   "cell_type": "code",
   "execution_count": 29,
   "id": "a4059616",
   "metadata": {},
   "outputs": [],
   "source": [
    "df.drop([\"IndustryAwards\",\"T2\",\"District\",\"T3\"],axis=1, inplace=True)\n",
    "              "
   ]
  },
  {
   "cell_type": "markdown",
   "id": "676fadbf",
   "metadata": {},
   "source": [
    "#### Checking Correlation after eliminating correlated variables."
   ]
  },
  {
   "cell_type": "code",
   "execution_count": 47,
   "id": "d4a25da8",
   "metadata": {},
   "outputs": [
    {
     "data": {
      "image/png": "[encoded data removed]",
      "text/plain": [
       "<Figure size 1080x720 with 2 Axes>"
      ]
     },
     "metadata": {
      "needs_background": "light"
     },
     "output_type": "display_data"
    }
   ],
   "source": [
    "#To check the correlation between the variables\n",
    "\n",
    "f,ax=plt.subplots(figsize=(15,10))\n",
    "sns.heatmap(df.corr() ,annot=True ,fmt='.2g', vmax=1,vmin=-1,center=0, cmap=\"coolwarm\",linewidths=3,linecolor='black' , cbar_kws= {'orientation': 'horizontal'} ,square=True,ax=ax)\n",
    "plt.show()"
   ]
  },
  {
   "cell_type": "markdown",
   "id": "2e8fc7ef",
   "metadata": {},
   "source": [
    "#### Segregating the X and y for Training the data."
   ]
  },
  {
   "cell_type": "code",
   "execution_count": 30,
   "id": "1283b570",
   "metadata": {},
   "outputs": [],
   "source": [
    "#DEfining X and y for training the data.\n",
    "\n",
    "X=df.drop([\"Violations\"],axis=1)\n",
    "y=df[\"Violations\"]"
   ]
  },
  {
   "cell_type": "code",
   "execution_count": 31,
   "id": "b08b6dd2",
   "metadata": {},
   "outputs": [
    {
     "name": "stdout",
     "output_type": "stream",
     "text": [
      "The numerical data are :['RISK', 'ClientBase', 'T1', 'T4', 'T5', 'Violations']\n",
      "The categorical data are :['Ret/Inst', 'BrokerType']\n"
     ]
    }
   ],
   "source": [
    "#To Categorize categorical columns and numerical columns separately in a list in the data.\n",
    "\n",
    "cat=[]\n",
    "num=[]\n",
    "for i in df.columns:\n",
    "    if df[i].dtypes==object:\n",
    "        cat.append(i)\n",
    "    else:\n",
    "        num.append(i)\n",
    "\n",
    "print('The numerical data are :{}'.format(num))\n",
    "print('The categorical data are :{}'.format(cat))"
   ]
  },
  {
   "cell_type": "code",
   "execution_count": 32,
   "id": "d2815a0a",
   "metadata": {},
   "outputs": [],
   "source": [
    "num_data=X[['RISK', 'ClientBase', 'T1', 'T4', 'T5']]\n",
    "cat_data=X[['Ret/Inst', 'BrokerType']]"
   ]
  },
  {
   "cell_type": "code",
   "execution_count": 33,
   "id": "406586c4",
   "metadata": {},
   "outputs": [],
   "source": [
    "# For standardising the numerical variable.\n",
    "\n",
    "sc=StandardScaler()"
   ]
  },
  {
   "cell_type": "code",
   "execution_count": 34,
   "id": "2b9e3354",
   "metadata": {},
   "outputs": [
    {
     "data": {
      "text/html": [
       "<div>\n",
       "<style scoped>\n",
       "    .dataframe tbody tr th:only-of-type {\n",
       "        vertical-align: middle;\n",
       "    }\n",
       "\n",
       "    .dataframe tbody tr th {\n",
       "        vertical-align: top;\n",
       "    }\n",
       "\n",
       "    .dataframe thead th {\n",
       "        text-align: right;\n",
       "    }\n",
       "</style>\n",
       "<table border=\"1\" class=\"dataframe\">\n",
       "  <thead>\n",
       "    <tr style=\"text-align: right;\">\n",
       "      <th></th>\n",
       "      <th>RISK</th>\n",
       "      <th>ClientBase</th>\n",
       "      <th>T1</th>\n",
       "      <th>T4</th>\n",
       "      <th>T5</th>\n",
       "    </tr>\n",
       "  </thead>\n",
       "  <tbody>\n",
       "    <tr>\n",
       "      <th>0</th>\n",
       "      <td>1.415610</td>\n",
       "      <td>-1.460251</td>\n",
       "      <td>-1.782489</td>\n",
       "      <td>-2.313665</td>\n",
       "      <td>-2.465701</td>\n",
       "    </tr>\n",
       "    <tr>\n",
       "      <th>1</th>\n",
       "      <td>-1.488206</td>\n",
       "      <td>-0.076127</td>\n",
       "      <td>-1.782489</td>\n",
       "      <td>-1.604883</td>\n",
       "      <td>-1.531900</td>\n",
       "    </tr>\n",
       "    <tr>\n",
       "      <th>2</th>\n",
       "      <td>1.415610</td>\n",
       "      <td>1.307998</td>\n",
       "      <td>-1.293600</td>\n",
       "      <td>-2.617428</td>\n",
       "      <td>-0.971620</td>\n",
       "    </tr>\n",
       "    <tr>\n",
       "      <th>3</th>\n",
       "      <td>1.415610</td>\n",
       "      <td>-1.460251</td>\n",
       "      <td>-1.489156</td>\n",
       "      <td>-1.908647</td>\n",
       "      <td>-1.905421</td>\n",
       "    </tr>\n",
       "    <tr>\n",
       "      <th>4</th>\n",
       "      <td>1.415610</td>\n",
       "      <td>-0.076127</td>\n",
       "      <td>-1.293600</td>\n",
       "      <td>-1.301120</td>\n",
       "      <td>-0.131199</td>\n",
       "    </tr>\n",
       "  </tbody>\n",
       "</table>\n",
       "</div>"
      ],
      "text/plain": [
       "       RISK  ClientBase        T1        T4        T5\n",
       "0  1.415610   -1.460251 -1.782489 -2.313665 -2.465701\n",
       "1 -1.488206   -0.076127 -1.782489 -1.604883 -1.531900\n",
       "2  1.415610    1.307998 -1.293600 -2.617428 -0.971620\n",
       "3  1.415610   -1.460251 -1.489156 -1.908647 -1.905421\n",
       "4  1.415610   -0.076127 -1.293600 -1.301120 -0.131199"
      ]
     },
     "execution_count": 34,
     "metadata": {},
     "output_type": "execute_result"
    }
   ],
   "source": [
    "num_sc=sc.fit_transform(num_data)\n",
    "num_df=pd.DataFrame(num_sc,columns=num_data.columns)\n",
    "num_df.head()    #Standardised Numerical Data."
   ]
  },
  {
   "cell_type": "code",
   "execution_count": 35,
   "id": "5ef1c27f",
   "metadata": {},
   "outputs": [],
   "source": [
    "#For standardising Categorical variable.\n",
    "oe=OrdinalEncoder() \n",
    "cat_oe=oe.fit_transform(cat_data)\n",
    "cat_df=pd.DataFrame(cat_oe,columns=cat_data.columns)\n"
   ]
  },
  {
   "cell_type": "code",
   "execution_count": 36,
   "id": "3b1210cf",
   "metadata": {},
   "outputs": [
    {
     "data": {
      "text/html": [
       "<div>\n",
       "<style scoped>\n",
       "    .dataframe tbody tr th:only-of-type {\n",
       "        vertical-align: middle;\n",
       "    }\n",
       "\n",
       "    .dataframe tbody tr th {\n",
       "        vertical-align: top;\n",
       "    }\n",
       "\n",
       "    .dataframe thead th {\n",
       "        text-align: right;\n",
       "    }\n",
       "</style>\n",
       "<table border=\"1\" class=\"dataframe\">\n",
       "  <thead>\n",
       "    <tr style=\"text-align: right;\">\n",
       "      <th></th>\n",
       "      <th>Ret/Inst</th>\n",
       "      <th>BrokerType</th>\n",
       "    </tr>\n",
       "  </thead>\n",
       "  <tbody>\n",
       "    <tr>\n",
       "      <th>0</th>\n",
       "      <td>1.0</td>\n",
       "      <td>1.0</td>\n",
       "    </tr>\n",
       "    <tr>\n",
       "      <th>1</th>\n",
       "      <td>0.0</td>\n",
       "      <td>1.0</td>\n",
       "    </tr>\n",
       "    <tr>\n",
       "      <th>2</th>\n",
       "      <td>0.0</td>\n",
       "      <td>1.0</td>\n",
       "    </tr>\n",
       "    <tr>\n",
       "      <th>3</th>\n",
       "      <td>0.0</td>\n",
       "      <td>1.0</td>\n",
       "    </tr>\n",
       "    <tr>\n",
       "      <th>4</th>\n",
       "      <td>0.0</td>\n",
       "      <td>1.0</td>\n",
       "    </tr>\n",
       "  </tbody>\n",
       "</table>\n",
       "</div>"
      ],
      "text/plain": [
       "   Ret/Inst  BrokerType\n",
       "0       1.0         1.0\n",
       "1       0.0         1.0\n",
       "2       0.0         1.0\n",
       "3       0.0         1.0\n",
       "4       0.0         1.0"
      ]
     },
     "execution_count": 36,
     "metadata": {},
     "output_type": "execute_result"
    }
   ],
   "source": [
    "cat_df.head() #Standardised Categorical variable"
   ]
  },
  {
   "cell_type": "code",
   "execution_count": 37,
   "id": "4401f1c3",
   "metadata": {},
   "outputs": [],
   "source": [
    "concat=pd.concat([num_df,cat_df],axis=1)   #Combining  both the Standardised Numerical and Categorical dataset in a X dataset."
   ]
  },
  {
   "cell_type": "code",
   "execution_count": 38,
   "id": "eb132a45",
   "metadata": {},
   "outputs": [],
   "source": [
    "X=concat.copy()"
   ]
  },
  {
   "cell_type": "code",
   "execution_count": 39,
   "id": "d50fc347",
   "metadata": {},
   "outputs": [
    {
     "data": {
      "text/html": [
       "<div>\n",
       "<style scoped>\n",
       "    .dataframe tbody tr th:only-of-type {\n",
       "        vertical-align: middle;\n",
       "    }\n",
       "\n",
       "    .dataframe tbody tr th {\n",
       "        vertical-align: top;\n",
       "    }\n",
       "\n",
       "    .dataframe thead th {\n",
       "        text-align: right;\n",
       "    }\n",
       "</style>\n",
       "<table border=\"1\" class=\"dataframe\">\n",
       "  <thead>\n",
       "    <tr style=\"text-align: right;\">\n",
       "      <th></th>\n",
       "      <th>RISK</th>\n",
       "      <th>ClientBase</th>\n",
       "      <th>T1</th>\n",
       "      <th>T4</th>\n",
       "      <th>T5</th>\n",
       "      <th>Ret/Inst</th>\n",
       "      <th>BrokerType</th>\n",
       "    </tr>\n",
       "  </thead>\n",
       "  <tbody>\n",
       "    <tr>\n",
       "      <th>0</th>\n",
       "      <td>1.415610</td>\n",
       "      <td>-1.460251</td>\n",
       "      <td>-1.782489</td>\n",
       "      <td>-2.313665</td>\n",
       "      <td>-2.465701</td>\n",
       "      <td>1.0</td>\n",
       "      <td>1.0</td>\n",
       "    </tr>\n",
       "    <tr>\n",
       "      <th>1</th>\n",
       "      <td>-1.488206</td>\n",
       "      <td>-0.076127</td>\n",
       "      <td>-1.782489</td>\n",
       "      <td>-1.604883</td>\n",
       "      <td>-1.531900</td>\n",
       "      <td>0.0</td>\n",
       "      <td>1.0</td>\n",
       "    </tr>\n",
       "    <tr>\n",
       "      <th>2</th>\n",
       "      <td>1.415610</td>\n",
       "      <td>1.307998</td>\n",
       "      <td>-1.293600</td>\n",
       "      <td>-2.617428</td>\n",
       "      <td>-0.971620</td>\n",
       "      <td>0.0</td>\n",
       "      <td>1.0</td>\n",
       "    </tr>\n",
       "    <tr>\n",
       "      <th>3</th>\n",
       "      <td>1.415610</td>\n",
       "      <td>-1.460251</td>\n",
       "      <td>-1.489156</td>\n",
       "      <td>-1.908647</td>\n",
       "      <td>-1.905421</td>\n",
       "      <td>0.0</td>\n",
       "      <td>1.0</td>\n",
       "    </tr>\n",
       "    <tr>\n",
       "      <th>4</th>\n",
       "      <td>1.415610</td>\n",
       "      <td>-0.076127</td>\n",
       "      <td>-1.293600</td>\n",
       "      <td>-1.301120</td>\n",
       "      <td>-0.131199</td>\n",
       "      <td>0.0</td>\n",
       "      <td>1.0</td>\n",
       "    </tr>\n",
       "    <tr>\n",
       "      <th>...</th>\n",
       "      <td>...</td>\n",
       "      <td>...</td>\n",
       "      <td>...</td>\n",
       "      <td>...</td>\n",
       "      <td>...</td>\n",
       "      <td>...</td>\n",
       "      <td>...</td>\n",
       "    </tr>\n",
       "    <tr>\n",
       "      <th>195</th>\n",
       "      <td>-0.036298</td>\n",
       "      <td>1.307998</td>\n",
       "      <td>1.053067</td>\n",
       "      <td>1.736514</td>\n",
       "      <td>1.736403</td>\n",
       "      <td>1.0</td>\n",
       "      <td>1.0</td>\n",
       "    </tr>\n",
       "    <tr>\n",
       "      <th>196</th>\n",
       "      <td>1.415610</td>\n",
       "      <td>-0.076127</td>\n",
       "      <td>1.053067</td>\n",
       "      <td>2.040278</td>\n",
       "      <td>1.269502</td>\n",
       "      <td>0.0</td>\n",
       "      <td>1.0</td>\n",
       "    </tr>\n",
       "    <tr>\n",
       "      <th>197</th>\n",
       "      <td>-0.036298</td>\n",
       "      <td>-0.076127</td>\n",
       "      <td>2.030845</td>\n",
       "      <td>1.128987</td>\n",
       "      <td>1.269502</td>\n",
       "      <td>0.0</td>\n",
       "      <td>1.0</td>\n",
       "    </tr>\n",
       "    <tr>\n",
       "      <th>198</th>\n",
       "      <td>-0.036298</td>\n",
       "      <td>-0.076127</td>\n",
       "      <td>1.835289</td>\n",
       "      <td>1.432751</td>\n",
       "      <td>0.335701</td>\n",
       "      <td>1.0</td>\n",
       "      <td>1.0</td>\n",
       "    </tr>\n",
       "    <tr>\n",
       "      <th>199</th>\n",
       "      <td>-0.036298</td>\n",
       "      <td>-0.076127</td>\n",
       "      <td>2.030845</td>\n",
       "      <td>1.736514</td>\n",
       "      <td>1.269502</td>\n",
       "      <td>0.0</td>\n",
       "      <td>1.0</td>\n",
       "    </tr>\n",
       "  </tbody>\n",
       "</table>\n",
       "<p>200 rows × 7 columns</p>\n",
       "</div>"
      ],
      "text/plain": [
       "         RISK  ClientBase        T1        T4        T5  Ret/Inst  BrokerType\n",
       "0    1.415610   -1.460251 -1.782489 -2.313665 -2.465701       1.0         1.0\n",
       "1   -1.488206   -0.076127 -1.782489 -1.604883 -1.531900       0.0         1.0\n",
       "2    1.415610    1.307998 -1.293600 -2.617428 -0.971620       0.0         1.0\n",
       "3    1.415610   -1.460251 -1.489156 -1.908647 -1.905421       0.0         1.0\n",
       "4    1.415610   -0.076127 -1.293600 -1.301120 -0.131199       0.0         1.0\n",
       "..        ...         ...       ...       ...       ...       ...         ...\n",
       "195 -0.036298    1.307998  1.053067  1.736514  1.736403       1.0         1.0\n",
       "196  1.415610   -0.076127  1.053067  2.040278  1.269502       0.0         1.0\n",
       "197 -0.036298   -0.076127  2.030845  1.128987  1.269502       0.0         1.0\n",
       "198 -0.036298   -0.076127  1.835289  1.432751  0.335701       1.0         1.0\n",
       "199 -0.036298   -0.076127  2.030845  1.736514  1.269502       0.0         1.0\n",
       "\n",
       "[200 rows x 7 columns]"
      ]
     },
     "execution_count": 39,
     "metadata": {},
     "output_type": "execute_result"
    }
   ],
   "source": [
    "X\n",
    "#Now we got the Standardised data for all the columns."
   ]
  },
  {
   "cell_type": "code",
   "execution_count": 40,
   "id": "ca53f8f3",
   "metadata": {},
   "outputs": [],
   "source": [
    "#Training the model\n",
    "\n",
    "X_train,X_test,y_train,y_test=train_test_split(X,y,train_size=0.7,random_state=42)"
   ]
  },
  {
   "cell_type": "markdown",
   "id": "b6c0704d",
   "metadata": {},
   "source": [
    "#### Logistic Regression Model"
   ]
  },
  {
   "cell_type": "code",
   "execution_count": 48,
   "id": "8d32c9ea",
   "metadata": {},
   "outputs": [
    {
     "name": "stdout",
     "output_type": "stream",
     "text": [
      "Accuracy: 81.66666666666667\n"
     ]
    }
   ],
   "source": [
    "# logistic Regression model\n",
    "\n",
    "model_lr = LogisticRegression()\n",
    "model_lr.fit(X_train , y_train)\n",
    "y_pred=model_lr.predict(X_test)\n",
    "print(\"Accuracy:\",metrics.accuracy_score(y_test, y_pred)*100)"
   ]
  },
  {
   "cell_type": "code",
   "execution_count": 42,
   "id": "7afeff63",
   "metadata": {},
   "outputs": [
    {
     "data": {
      "image/png": "[encoded data removed]",
      "text/plain": [
       "<Figure size 216x144 with 2 Axes>"
      ]
     },
     "metadata": {
      "needs_background": "light"
     },
     "output_type": "display_data"
    }
   ],
   "source": [
    "CM = confusion_matrix(y_test,y_pred)\n",
    "f, ax = plt.subplots(figsize=(3,2))\n",
    "sns.heatmap(CM,annot = True, linewidths=0.5,linecolor=\"red\",fmt=\".0f\",ax=ax)\n",
    "plt.xlabel(\"Prediction(y_pred)\")\n",
    "plt.ylabel(\"Ytrue\")\n",
    "plt.show()"
   ]
  },
  {
   "cell_type": "code",
   "execution_count": 43,
   "id": "3243ee89",
   "metadata": {},
   "outputs": [
    {
     "name": "stdout",
     "output_type": "stream",
     "text": [
      "[[44  3]\n",
      " [ 8  5]]\n",
      "\n",
      "True Positives(TP) =  44\n",
      "\n",
      "True Negatives(TN) =  5\n",
      "\n",
      "False Positives(FP) =  3\n",
      "\n",
      "False Negatives(FN) =  8\n"
     ]
    }
   ],
   "source": [
    "print(confusion_matrix(y_test, y_pred))\n",
    "\n",
    "# TP = confusion[1,1] # true positive \n",
    "# TN = confusion[0,0] # true negatives\n",
    "# FP = confusion[0,1] # false positives\n",
    "# FN = confusion[1,0] # false negatives\n",
    "\n",
    "print('\\nTrue Positives(TP) = ', CM[0,0])\n",
    "\n",
    "print('\\nTrue Negatives(TN) = ', CM[1,1])\n",
    "\n",
    "print('\\nFalse Positives(FP) = ', CM[0,1])\n",
    "\n",
    "print('\\nFalse Negatives(FN) = ', CM[1,0])"
   ]
  },
  {
   "cell_type": "code",
   "execution_count": 44,
   "id": "9b40d119",
   "metadata": {},
   "outputs": [
    {
     "name": "stdout",
     "output_type": "stream",
     "text": [
      "              precision    recall  f1-score   support\n",
      "\n",
      "           0       0.85      0.94      0.89        47\n",
      "           1       0.62      0.38      0.48        13\n",
      "\n",
      "    accuracy                           0.82        60\n",
      "   macro avg       0.74      0.66      0.68        60\n",
      "weighted avg       0.80      0.82      0.80        60\n",
      "\n"
     ]
    }
   ],
   "source": [
    "print(classification_report(y_test, y_pred))"
   ]
  },
  {
   "cell_type": "code",
   "execution_count": 45,
   "id": "2c3ae515",
   "metadata": {},
   "outputs": [
    {
     "name": "stdout",
     "output_type": "stream",
     "text": [
      "Classification accuracy : 0.8167\n",
      "Precision : 0.9362\n",
      "Recall or Sensitivity : 0.8462\n",
      "Specificity : 0.6250\n",
      "True Positive Rate : 0.8462\n",
      "False Positive Rate : 0.3750\n"
     ]
    }
   ],
   "source": [
    "TP = CM[0,0]\n",
    "TN = CM[1,1]\n",
    "FP = CM[0,1]\n",
    "FN = CM[1,0]\n",
    "# print classification accuracy\n",
    "\n",
    "classification_accuracy = (TP + TN) / float(TP + TN + FP + FN)\n",
    "\n",
    "print('Classification accuracy : {0:0.4f}'.format(classification_accuracy))\n",
    "\n",
    "# print precision score\n",
    "\n",
    "precision = TP / float(TP + FP)\n",
    "\n",
    "\n",
    "print('Precision : {0:0.4f}'.format(precision))\n",
    "\n",
    "recall = TP / float(TP + FN)\n",
    "\n",
    "print('Recall or Sensitivity : {0:0.4f}'.format(recall))\n",
    "\n",
    "true_positive_rate = TP / float(TP + FN)\n",
    "\n",
    "specificity = TN / (TN + FP)\n",
    "\n",
    "print('Specificity : {0:0.4f}'.format(specificity))\n",
    "\n",
    "\n",
    "\n",
    "print('True Positive Rate : {0:0.4f}'.format(true_positive_rate))\n",
    "\n",
    "false_positive_rate = FP / float(FP + TN)\n",
    "\n",
    "\n",
    "print('False Positive Rate : {0:0.4f}'.format(false_positive_rate))"
   ]
  },
  {
   "cell_type": "code",
   "execution_count": 46,
   "id": "0b5ca333",
   "metadata": {},
   "outputs": [
    {
     "name": "stdout",
     "output_type": "stream",
     "text": [
      "AxesSubplot(0.125,0.125;0.775x0.755)\n"
     ]
    },
    {
     "data": {
      "image/png": "[encoded data removed]",
      "text/plain": [
       "<Figure size 432x288 with 1 Axes>"
      ]
     },
     "metadata": {
      "needs_background": "light"
     },
     "output_type": "display_data"
    }
   ],
   "source": [
    "# To get the weights of all the variables\n",
    "weights = pd.Series(model_lr.coef_[0],\n",
    "                 index=X.columns.values)\n",
    "print (weights.sort_values(ascending = False)[:10].plot(kind='bar'))"
   ]
  },
  {
   "cell_type": "markdown",
   "id": "86000c86",
   "metadata": {},
   "source": [
    "### RandomForest Classifier"
   ]
  },
  {
   "cell_type": "code",
   "execution_count": 52,
   "id": "6e809d10",
   "metadata": {},
   "outputs": [
    {
     "name": "stdout",
     "output_type": "stream",
     "text": [
      "80.0\n"
     ]
    }
   ],
   "source": [
    "model_rf = RandomForestClassifier(n_estimators=1000 , oob_score = True, n_jobs = -1,\n",
    "                                  random_state =50, max_features = \"auto\",\n",
    "                                  max_leaf_nodes = 30)\n",
    "model_rf.fit(X_train, y_train)\n",
    "\n",
    "# Make predictions\n",
    "y_pred = model_rf.predict(X_test)\n",
    "print (metrics.accuracy_score(y_test, y_pred)*100)"
   ]
  },
  {
   "cell_type": "code",
   "execution_count": 53,
   "id": "2793842c",
   "metadata": {},
   "outputs": [
    {
     "data": {
      "image/png": "[encoded data removed]",
      "text/plain": [
       "<Figure size 216x144 with 2 Axes>"
      ]
     },
     "metadata": {
      "needs_background": "light"
     },
     "output_type": "display_data"
    }
   ],
   "source": [
    "CM = confusion_matrix(y_test,y_pred)\n",
    "f, ax = plt.subplots(figsize=(3,2))\n",
    "sns.heatmap(CM,annot = True, linewidths=0.5,linecolor=\"red\",fmt=\".0f\",ax=ax)\n",
    "plt.xlabel(\"Prediction(y_pred)\")\n",
    "plt.ylabel(\"Ytrue\")\n",
    "plt.show()"
   ]
  },
  {
   "cell_type": "code",
   "execution_count": 54,
   "id": "54ef35c9",
   "metadata": {},
   "outputs": [
    {
     "name": "stdout",
     "output_type": "stream",
     "text": [
      "\n",
      "True Positives(TP) =  43\n",
      "\n",
      "True Negatives(TN) =  5\n",
      "\n",
      "False Positives(FP) =  4\n",
      "\n",
      "False Negatives(FN) =  8\n"
     ]
    }
   ],
   "source": [
    "confusion_matrix(y_test, y_pred)\n",
    "\n",
    "# TP = confusion[1,1] # true positive \n",
    "# TN = confusion[0,0] # true negatives\n",
    "# FP = confusion[0,1] # false positives\n",
    "# FN = confusion[1,0] # false negatives\n",
    "\n",
    "print('\\nTrue Positives(TP) = ', CM[0,0])\n",
    "\n",
    "print('\\nTrue Negatives(TN) = ', CM[1,1])\n",
    "\n",
    "print('\\nFalse Positives(FP) = ', CM[0,1])\n",
    "\n",
    "print('\\nFalse Negatives(FN) = ', CM[1,0])"
   ]
  },
  {
   "cell_type": "code",
   "execution_count": 55,
   "id": "c9239566",
   "metadata": {},
   "outputs": [
    {
     "name": "stdout",
     "output_type": "stream",
     "text": [
      "              precision    recall  f1-score   support\n",
      "\n",
      "           0       0.84      0.91      0.88        47\n",
      "           1       0.56      0.38      0.45        13\n",
      "\n",
      "    accuracy                           0.80        60\n",
      "   macro avg       0.70      0.65      0.67        60\n",
      "weighted avg       0.78      0.80      0.79        60\n",
      "\n"
     ]
    }
   ],
   "source": [
    "print(classification_report(y_test, y_pred))"
   ]
  },
  {
   "cell_type": "code",
   "execution_count": 56,
   "id": "cca24f4f",
   "metadata": {},
   "outputs": [
    {
     "name": "stdout",
     "output_type": "stream",
     "text": [
      "Classification accuracy : 0.8000\n",
      "Precision : 0.9149\n",
      "Recall or Sensitivity : 0.8431\n",
      "Specificity : 0.5556\n",
      "True Positive Rate : 0.8431\n",
      "False Positive Rate : 0.4444\n"
     ]
    }
   ],
   "source": [
    "TP = CM[0,0]\n",
    "TN = CM[1,1]\n",
    "FP = CM[0,1]\n",
    "FN = CM[1,0]\n",
    "# print classification accuracy\n",
    "\n",
    "classification_accuracy = (TP + TN) / float(TP + TN + FP + FN)\n",
    "\n",
    "print('Classification accuracy : {0:0.4f}'.format(classification_accuracy))\n",
    "\n",
    "# print precision score\n",
    "\n",
    "precision = TP / float(TP + FP)\n",
    "\n",
    "\n",
    "print('Precision : {0:0.4f}'.format(precision))\n",
    "\n",
    "recall = TP / float(TP + FN)\n",
    "\n",
    "print('Recall or Sensitivity : {0:0.4f}'.format(recall))\n",
    "\n",
    "true_positive_rate = TP / float(TP + FN)\n",
    "\n",
    "specificity = TN / (TN + FP)\n",
    "\n",
    "print('Specificity : {0:0.4f}'.format(specificity))\n",
    "\n",
    "\n",
    "\n",
    "print('True Positive Rate : {0:0.4f}'.format(true_positive_rate))\n",
    "\n",
    "false_positive_rate = FP / float(FP + TN)\n",
    "\n",
    "\n",
    "print('False Positive Rate : {0:0.4f}'.format(false_positive_rate))"
   ]
  },
  {
   "cell_type": "code",
   "execution_count": 57,
   "id": "f64bbdd6",
   "metadata": {},
   "outputs": [
    {
     "data": {
      "text/plain": [
       "<AxesSubplot:>"
      ]
     },
     "execution_count": 57,
     "metadata": {},
     "output_type": "execute_result"
    },
    {
     "data": {
      "image/png": "[encoded data removed]",
      "text/plain": [
       "<Figure size 432x288 with 1 Axes>"
      ]
     },
     "metadata": {
      "needs_background": "light"
     },
     "output_type": "display_data"
    }
   ],
   "source": [
    "importances = model_rf.feature_importances_\n",
    "weights = pd.Series(importances,\n",
    "                 index=X.columns.values)\n",
    "weights.sort_values()[-10:].plot(kind = 'barh')"
   ]
  },
  {
   "cell_type": "markdown",
   "id": "fc2619d3",
   "metadata": {},
   "source": [
    "From the Random Forest Classifier, we get Accuracy score 80%.\n",
    "And the Features contributing in this model are different in weights than that of Logistic model.\n",
    "\n",
    "Here\n",
    " \"T1\" has highest contribution in predicting the model.\n",
    " \n",
    " \"T4\" has second highest contribution in it.\n",
    " \n",
    " Folllowed by \"T5\", \"Clientbase\", \"Retail/Institutional\", \"RISK\", \"Brokertype\"."
   ]
  },
  {
   "cell_type": "markdown",
   "id": "9d7ed79e",
   "metadata": {},
   "source": [
    "### Got a good Accuracy score for the Logistic model i.e 81.66 %  for predicting Violation Variable.\n",
    "\n",
    "#### Important Features which contribute to This model are  \"Retail/Institutional\" feature, \"T4\" score ,\"T1\" score, \"T5\" score, \"Brokertype\" feature, \"ClientBase\" feature, \"RISK\" feature.\n",
    "\n",
    "From the above graph we can see that:\n",
    "\n",
    " \"Retail/Institutional\" has highest contribution to it.\n",
    " \n",
    " \"T4\" score ,\"T1\" score has equal level of contribution in predicting this model.\n",
    " \n",
    " \"T5\" score, \"Brokertype\" feature has lesser contribution in it.\n",
    " \n",
    " \"Risk\" has least contribution in it.\n",
    " \n",
    " \n",
    " \n",
    " \n"
   ]
  }
 ],
 "metadata": {
  "kernelspec": {
   "display_name": "Python 3",
   "language": "python",
   "name": "python3"
  },
  "language_info": {
   "codemirror_mode": {
    "name": "ipython",
    "version": 3
   },
   "file_extension": ".py",
   "mimetype": "text/x-python",
   "name": "python",
   "nbconvert_exporter": "python",
   "pygments_lexer": "ipython3",
   "version": "3.8.8"
  }
 },
 "nbformat": 4,
 "nbformat_minor": 5
}
